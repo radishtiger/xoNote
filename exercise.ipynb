{
 "cells": [
  {
   "cell_type": "code",
   "execution_count": null,
   "metadata": {},
   "outputs": [
    {
     "ename": "",
     "evalue": "",
     "output_type": "error",
     "traceback": [
      "\u001b[1;31mFailed to start the Kernel. \n",
      "AttributeError: '<win32com.gen_py.HwpObject 1.0 Type Library.IHwpObject instance at 0x1519371096016>' object has no attribute 'Close'. \n",
      "View Jupyter <a href='command:jupyter.viewOutput'>log</a> for further details."
     ]
    }
   ],
   "source": [
    "print(3)"
   ]
  }
 ],
 "metadata": {
  "kernelspec": {
   "display_name": "Python 3.9.13 64-bit (windows store)",
   "language": "python",
   "name": "python3"
  },
  "language_info": {
   "name": "python",
   "version": "3.9.13"
  },
  "orig_nbformat": 4,
  "vscode": {
   "interpreter": {
    "hash": "a69511640f25c145e9b2a5ee195dcd8f34ce88953b3f1fef324f4a5192c99e2b"
   }
  }
 },
 "nbformat": 4,
 "nbformat_minor": 2
}
